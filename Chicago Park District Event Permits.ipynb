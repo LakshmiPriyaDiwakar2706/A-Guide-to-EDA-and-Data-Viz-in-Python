{
 "cells": [
  {
   "cell_type": "code",
   "execution_count": 1,
   "id": "compliant-insulation",
   "metadata": {},
   "outputs": [
    {
     "name": "stdout",
     "output_type": "stream",
     "text": [
      "Status code: 200\n"
     ]
    }
   ],
   "source": [
    "import requests\n",
    "\n",
    "url = 'https://data.cityofchicago.org/resource/pk66-w54g.json?$limit=125000'\n",
    "\n",
    "r = requests.get(url)\n",
    "print(f\"Status code: {r.status_code}\")\n",
    "\n",
    "response_dict = r.json()\n",
    "\n"
   ]
  },
  {
   "cell_type": "code",
   "execution_count": 2,
   "id": "eastern-regulation",
   "metadata": {},
   "outputs": [],
   "source": [
    "import pandas as pd\n",
    "data = pd.DataFrame(response_dict)"
   ]
  },
  {
   "cell_type": "code",
   "execution_count": 3,
   "id": "material-navigation",
   "metadata": {},
   "outputs": [
    {
     "data": {
      "text/html": [
       "<div>\n",
       "<style scoped>\n",
       "    .dataframe tbody tr th:only-of-type {\n",
       "        vertical-align: middle;\n",
       "    }\n",
       "\n",
       "    .dataframe tbody tr th {\n",
       "        vertical-align: top;\n",
       "    }\n",
       "\n",
       "    .dataframe thead th {\n",
       "        text-align: right;\n",
       "    }\n",
       "</style>\n",
       "<table border=\"1\" class=\"dataframe\">\n",
       "  <thead>\n",
       "    <tr style=\"text-align: right;\">\n",
       "      <th></th>\n",
       "      <th>requestor_</th>\n",
       "      <th>organization</th>\n",
       "      <th>park_number</th>\n",
       "      <th>park_facility_name</th>\n",
       "      <th>reservation_start_date</th>\n",
       "      <th>reservation_end_date</th>\n",
       "      <th>event_type</th>\n",
       "      <th>event_description</th>\n",
       "      <th>permit_status</th>\n",
       "    </tr>\n",
       "  </thead>\n",
       "  <tbody>\n",
       "    <tr>\n",
       "      <th>0</th>\n",
       "      <td>Sara Hruska</td>\n",
       "      <td>--</td>\n",
       "      <td>228</td>\n",
       "      <td>Horner Picnic Grove 8</td>\n",
       "      <td>2024-12-31T00:00:00.000</td>\n",
       "      <td>2024-12-31T00:00:00.000</td>\n",
       "      <td>Permit - Athletic T Cluster 3</td>\n",
       "      <td>Spark Montessori Outdoor Program (Non-exclusiv...</td>\n",
       "      <td>Approved</td>\n",
       "    </tr>\n",
       "    <tr>\n",
       "      <th>1</th>\n",
       "      <td>Permit Holder Account</td>\n",
       "      <td>--</td>\n",
       "      <td>100</td>\n",
       "      <td>Lincoln Diamond Lawrence 5</td>\n",
       "      <td>2024-12-31T00:00:00.000</td>\n",
       "      <td>2024-12-31T00:00:00.000</td>\n",
       "      <td>Administrative Reservation - Internal Hold REV...</td>\n",
       "      <td>ADMIN HOLD PSG-2024-Summer-Softball-Lincoln-La...</td>\n",
       "      <td>Tentative</td>\n",
       "    </tr>\n",
       "    <tr>\n",
       "      <th>2</th>\n",
       "      <td>Permit Holder Account</td>\n",
       "      <td>--</td>\n",
       "      <td>100</td>\n",
       "      <td>Lincoln Diamond Lawrence 2</td>\n",
       "      <td>2024-12-31T00:00:00.000</td>\n",
       "      <td>2024-12-31T00:00:00.000</td>\n",
       "      <td>Administrative Reservation - Internal Hold REV...</td>\n",
       "      <td>ADMIN HOLD PSG-2024-Summer-Softball-Lincoln-La...</td>\n",
       "      <td>Tentative</td>\n",
       "    </tr>\n",
       "    <tr>\n",
       "      <th>3</th>\n",
       "      <td>Mike Huberty</td>\n",
       "      <td>--</td>\n",
       "      <td>100</td>\n",
       "      <td>Lincoln Promenade near Grant Statue</td>\n",
       "      <td>2024-12-31T00:00:00.000</td>\n",
       "      <td>2024-12-31T00:00:00.000</td>\n",
       "      <td>Permit - Athletic T Cluster 3</td>\n",
       "      <td>Lincoln Park Hauntings Ghost Tour and Ghost Hu...</td>\n",
       "      <td>Approved</td>\n",
       "    </tr>\n",
       "    <tr>\n",
       "      <th>4</th>\n",
       "      <td>Permit Holder Account</td>\n",
       "      <td>--</td>\n",
       "      <td>100</td>\n",
       "      <td>Lincoln Diamond Lawrence 1</td>\n",
       "      <td>2024-12-31T00:00:00.000</td>\n",
       "      <td>2024-12-31T00:00:00.000</td>\n",
       "      <td>Administrative Reservation - Internal Hold REV...</td>\n",
       "      <td>ADMIN HOLD PSG-2024-Summer-Softball-Lincoln-La...</td>\n",
       "      <td>Tentative</td>\n",
       "    </tr>\n",
       "  </tbody>\n",
       "</table>\n",
       "</div>"
      ],
      "text/plain": [
       "              requestor_ organization park_number  \\\n",
       "0            Sara Hruska           --         228   \n",
       "1  Permit Holder Account           --         100   \n",
       "2  Permit Holder Account           --         100   \n",
       "3           Mike Huberty           --         100   \n",
       "4  Permit Holder Account           --         100   \n",
       "\n",
       "                    park_facility_name   reservation_start_date  \\\n",
       "0                Horner Picnic Grove 8  2024-12-31T00:00:00.000   \n",
       "1           Lincoln Diamond Lawrence 5  2024-12-31T00:00:00.000   \n",
       "2           Lincoln Diamond Lawrence 2  2024-12-31T00:00:00.000   \n",
       "3  Lincoln Promenade near Grant Statue  2024-12-31T00:00:00.000   \n",
       "4           Lincoln Diamond Lawrence 1  2024-12-31T00:00:00.000   \n",
       "\n",
       "      reservation_end_date                                         event_type  \\\n",
       "0  2024-12-31T00:00:00.000                      Permit - Athletic T Cluster 3   \n",
       "1  2024-12-31T00:00:00.000  Administrative Reservation - Internal Hold REV...   \n",
       "2  2024-12-31T00:00:00.000  Administrative Reservation - Internal Hold REV...   \n",
       "3  2024-12-31T00:00:00.000                      Permit - Athletic T Cluster 3   \n",
       "4  2024-12-31T00:00:00.000  Administrative Reservation - Internal Hold REV...   \n",
       "\n",
       "                                   event_description permit_status  \n",
       "0  Spark Montessori Outdoor Program (Non-exclusiv...      Approved  \n",
       "1  ADMIN HOLD PSG-2024-Summer-Softball-Lincoln-La...     Tentative  \n",
       "2  ADMIN HOLD PSG-2024-Summer-Softball-Lincoln-La...     Tentative  \n",
       "3  Lincoln Park Hauntings Ghost Tour and Ghost Hu...      Approved  \n",
       "4  ADMIN HOLD PSG-2024-Summer-Softball-Lincoln-La...     Tentative  "
      ]
     },
     "execution_count": 3,
     "metadata": {},
     "output_type": "execute_result"
    }
   ],
   "source": [
    "data.head()"
   ]
  },
  {
   "cell_type": "code",
   "execution_count": 4,
   "id": "serial-hobby",
   "metadata": {},
   "outputs": [
    {
     "data": {
      "text/html": [
       "<div>\n",
       "<style scoped>\n",
       "    .dataframe tbody tr th:only-of-type {\n",
       "        vertical-align: middle;\n",
       "    }\n",
       "\n",
       "    .dataframe tbody tr th {\n",
       "        vertical-align: top;\n",
       "    }\n",
       "\n",
       "    .dataframe thead th {\n",
       "        text-align: right;\n",
       "    }\n",
       "</style>\n",
       "<table border=\"1\" class=\"dataframe\">\n",
       "  <thead>\n",
       "    <tr style=\"text-align: right;\">\n",
       "      <th></th>\n",
       "      <th>requestor_</th>\n",
       "      <th>organization</th>\n",
       "      <th>park_number</th>\n",
       "      <th>park_facility_name</th>\n",
       "      <th>reservation_start_date</th>\n",
       "      <th>reservation_end_date</th>\n",
       "      <th>event_type</th>\n",
       "      <th>event_description</th>\n",
       "      <th>permit_status</th>\n",
       "    </tr>\n",
       "  </thead>\n",
       "  <tbody>\n",
       "    <tr>\n",
       "      <th>0</th>\n",
       "      <td>Sara Hruska</td>\n",
       "      <td>--</td>\n",
       "      <td>228</td>\n",
       "      <td>Horner Picnic Grove 8</td>\n",
       "      <td>2024-12-31T00:00:00.000</td>\n",
       "      <td>2024-12-31T00:00:00.000</td>\n",
       "      <td>Permit - Athletic T Cluster 3</td>\n",
       "      <td>Spark Montessori Outdoor Program (Non-exclusiv...</td>\n",
       "      <td>Approved</td>\n",
       "    </tr>\n",
       "    <tr>\n",
       "      <th>1</th>\n",
       "      <td>Permit Holder Account</td>\n",
       "      <td>--</td>\n",
       "      <td>100</td>\n",
       "      <td>Lincoln Diamond Lawrence 5</td>\n",
       "      <td>2024-12-31T00:00:00.000</td>\n",
       "      <td>2024-12-31T00:00:00.000</td>\n",
       "      <td>Administrative Reservation - Internal Hold REV...</td>\n",
       "      <td>ADMIN HOLD PSG-2024-Summer-Softball-Lincoln-La...</td>\n",
       "      <td>Tentative</td>\n",
       "    </tr>\n",
       "    <tr>\n",
       "      <th>2</th>\n",
       "      <td>Permit Holder Account</td>\n",
       "      <td>--</td>\n",
       "      <td>100</td>\n",
       "      <td>Lincoln Diamond Lawrence 2</td>\n",
       "      <td>2024-12-31T00:00:00.000</td>\n",
       "      <td>2024-12-31T00:00:00.000</td>\n",
       "      <td>Administrative Reservation - Internal Hold REV...</td>\n",
       "      <td>ADMIN HOLD PSG-2024-Summer-Softball-Lincoln-La...</td>\n",
       "      <td>Tentative</td>\n",
       "    </tr>\n",
       "    <tr>\n",
       "      <th>3</th>\n",
       "      <td>Mike Huberty</td>\n",
       "      <td>--</td>\n",
       "      <td>100</td>\n",
       "      <td>Lincoln Promenade near Grant Statue</td>\n",
       "      <td>2024-12-31T00:00:00.000</td>\n",
       "      <td>2024-12-31T00:00:00.000</td>\n",
       "      <td>Permit - Athletic T Cluster 3</td>\n",
       "      <td>Lincoln Park Hauntings Ghost Tour and Ghost Hu...</td>\n",
       "      <td>Approved</td>\n",
       "    </tr>\n",
       "    <tr>\n",
       "      <th>4</th>\n",
       "      <td>Permit Holder Account</td>\n",
       "      <td>--</td>\n",
       "      <td>100</td>\n",
       "      <td>Lincoln Diamond Lawrence 1</td>\n",
       "      <td>2024-12-31T00:00:00.000</td>\n",
       "      <td>2024-12-31T00:00:00.000</td>\n",
       "      <td>Administrative Reservation - Internal Hold REV...</td>\n",
       "      <td>ADMIN HOLD PSG-2024-Summer-Softball-Lincoln-La...</td>\n",
       "      <td>Tentative</td>\n",
       "    </tr>\n",
       "  </tbody>\n",
       "</table>\n",
       "</div>"
      ],
      "text/plain": [
       "              requestor_ organization park_number  \\\n",
       "0            Sara Hruska           --         228   \n",
       "1  Permit Holder Account           --         100   \n",
       "2  Permit Holder Account           --         100   \n",
       "3           Mike Huberty           --         100   \n",
       "4  Permit Holder Account           --         100   \n",
       "\n",
       "                    park_facility_name   reservation_start_date  \\\n",
       "0                Horner Picnic Grove 8  2024-12-31T00:00:00.000   \n",
       "1           Lincoln Diamond Lawrence 5  2024-12-31T00:00:00.000   \n",
       "2           Lincoln Diamond Lawrence 2  2024-12-31T00:00:00.000   \n",
       "3  Lincoln Promenade near Grant Statue  2024-12-31T00:00:00.000   \n",
       "4           Lincoln Diamond Lawrence 1  2024-12-31T00:00:00.000   \n",
       "\n",
       "      reservation_end_date                                         event_type  \\\n",
       "0  2024-12-31T00:00:00.000                      Permit - Athletic T Cluster 3   \n",
       "1  2024-12-31T00:00:00.000  Administrative Reservation - Internal Hold REV...   \n",
       "2  2024-12-31T00:00:00.000  Administrative Reservation - Internal Hold REV...   \n",
       "3  2024-12-31T00:00:00.000                      Permit - Athletic T Cluster 3   \n",
       "4  2024-12-31T00:00:00.000  Administrative Reservation - Internal Hold REV...   \n",
       "\n",
       "                                   event_description permit_status  \n",
       "0  Spark Montessori Outdoor Program (Non-exclusiv...      Approved  \n",
       "1  ADMIN HOLD PSG-2024-Summer-Softball-Lincoln-La...     Tentative  \n",
       "2  ADMIN HOLD PSG-2024-Summer-Softball-Lincoln-La...     Tentative  \n",
       "3  Lincoln Park Hauntings Ghost Tour and Ghost Hu...      Approved  \n",
       "4  ADMIN HOLD PSG-2024-Summer-Softball-Lincoln-La...     Tentative  "
      ]
     },
     "execution_count": 4,
     "metadata": {},
     "output_type": "execute_result"
    }
   ],
   "source": [
    "# Creating a copy of original Data Frame for EDA\n",
    "data_copy = data.copy()\n",
    "data_copy.head()\n"
   ]
  },
  {
   "cell_type": "code",
   "execution_count": 5,
   "id": "complicated-plaintiff",
   "metadata": {},
   "outputs": [
    {
     "name": "stdout",
     "output_type": "stream",
     "text": [
      "<class 'pandas.core.frame.DataFrame'>\n",
      "RangeIndex: 122950 entries, 0 to 122949\n",
      "Data columns (total 9 columns):\n",
      " #   Column                  Non-Null Count   Dtype \n",
      "---  ------                  --------------   ----- \n",
      " 0   requestor_              122950 non-null  object\n",
      " 1   organization            122950 non-null  object\n",
      " 2   park_number             122900 non-null  object\n",
      " 3   park_facility_name      122950 non-null  object\n",
      " 4   reservation_start_date  122950 non-null  object\n",
      " 5   reservation_end_date    122950 non-null  object\n",
      " 6   event_type              122950 non-null  object\n",
      " 7   event_description       122950 non-null  object\n",
      " 8   permit_status           122950 non-null  object\n",
      "dtypes: object(9)\n",
      "memory usage: 8.4+ MB\n"
     ]
    }
   ],
   "source": [
    "data_copy.info()\n"
   ]
  },
  {
   "cell_type": "code",
   "execution_count": 6,
   "id": "brave-robin",
   "metadata": {},
   "outputs": [
    {
     "data": {
      "text/plain": [
       "0        2024-12-31\n",
       "1        2024-12-31\n",
       "2        2024-12-31\n",
       "3        2024-12-31\n",
       "4        2024-12-31\n",
       "            ...    \n",
       "122945   2012-01-14\n",
       "122946   2012-01-08\n",
       "122947   2012-01-07\n",
       "122948   2012-01-07\n",
       "122949   2012-01-07\n",
       "Name: reservation_end_date, Length: 122950, dtype: datetime64[ns]"
      ]
     },
     "execution_count": 6,
     "metadata": {},
     "output_type": "execute_result"
    }
   ],
   "source": [
    "## Converting 'Reservation Start Date' and 'Reservation End Date' to datetime\n",
    "data_copy['reservation_start_date'] = pd.to_datetime(data_copy['reservation_start_date'])\n",
    "data_copy['reservation_end_date'] = pd.to_datetime(data_copy['reservation_end_date'])\n",
    "data_copy['reservation_start_date']\n",
    "data_copy['reservation_end_date']"
   ]
  },
  {
   "cell_type": "code",
   "execution_count": 7,
   "id": "documented-georgia",
   "metadata": {},
   "outputs": [
    {
     "name": "stdout",
     "output_type": "stream",
     "text": [
      "0         False\n",
      "1         False\n",
      "2         False\n",
      "3         False\n",
      "4         False\n",
      "          ...  \n",
      "122945    False\n",
      "122946    False\n",
      "122947    False\n",
      "122948    False\n",
      "122949    False\n",
      "Name: park_number, Length: 122950, dtype: bool\n"
     ]
    }
   ],
   "source": [
    "## Handling missing values\n",
    "### For 'Park Number', filling missing values with a placeholder '-1', #instead of dropping the values, this way could help me in filtering it out.\n",
    "data_copy['park_number'] = data_copy['park_number'].fillna(-1)\n",
    "print(data_copy['park_number'] == -1)"
   ]
  },
  {
   "cell_type": "code",
   "execution_count": 8,
   "id": "utility-thumbnail",
   "metadata": {},
   "outputs": [
    {
     "name": "stdout",
     "output_type": "stream",
     "text": [
      "                   requestor_ organization park_number  \\\n",
      "count                  122950       122950      122950   \n",
      "unique                  16357          630         392   \n",
      "top     Permit Holder Account           --         100   \n",
      "freq                     8288       117447       31278   \n",
      "mean                      NaN          NaN         NaN   \n",
      "min                       NaN          NaN         NaN   \n",
      "25%                       NaN          NaN         NaN   \n",
      "50%                       NaN          NaN         NaN   \n",
      "75%                       NaN          NaN         NaN   \n",
      "max                       NaN          NaN         NaN   \n",
      "\n",
      "                          park_facility_name         reservation_start_date  \\\n",
      "count                                 122950                         122950   \n",
      "unique                                  2428                            NaN   \n",
      "top     Garfield Conservatory All Show Rooms                            NaN   \n",
      "freq                                    3872                            NaN   \n",
      "mean                                     NaN  2018-03-04 03:44:57.233039360   \n",
      "min                                      NaN            2012-01-07 00:00:00   \n",
      "25%                                      NaN            2015-06-29 00:00:00   \n",
      "50%                                      NaN            2017-07-22 00:00:00   \n",
      "75%                                      NaN            2021-04-29 00:00:00   \n",
      "max                                      NaN            2024-12-31 00:00:00   \n",
      "\n",
      "                 reservation_end_date                  event_type  \\\n",
      "count                          122950                      122950   \n",
      "unique                            NaN                          62   \n",
      "top                               NaN  Permit - Athletic Training   \n",
      "freq                              NaN                       31734   \n",
      "mean    2018-03-04 03:56:13.956913664                         NaN   \n",
      "min               2012-01-07 00:00:00                         NaN   \n",
      "25%               2015-06-29 00:00:00                         NaN   \n",
      "50%               2017-07-22 00:00:00                         NaN   \n",
      "75%               2021-04-29 00:00:00                         NaN   \n",
      "max               2024-12-31 00:00:00                         NaN   \n",
      "\n",
      "       event_description permit_status  \n",
      "count             122950        122950  \n",
      "unique             25186             7  \n",
      "top        Day Camp Swim      Approved  \n",
      "freq                5464        105212  \n",
      "mean                 NaN           NaN  \n",
      "min                  NaN           NaN  \n",
      "25%                  NaN           NaN  \n",
      "50%                  NaN           NaN  \n",
      "75%                  NaN           NaN  \n",
      "max                  NaN           NaN  \n"
     ]
    }
   ],
   "source": [
    "## Summary Statistics\n",
    "print(data_copy.describe(include='all', datetime_is_numeric=True))"
   ]
  },
  {
   "cell_type": "code",
   "execution_count": 9,
   "id": "super-andrews",
   "metadata": {},
   "outputs": [],
   "source": [
    "## Date Range Analysis\n",
    "### Events per year\n",
    "data_copy['Year'] = data_copy['reservation_start_date'].dt.year\n",
    "events_per_year = data_copy['Year'].value_counts().sort_index()\n"
   ]
  },
  {
   "cell_type": "code",
   "execution_count": 10,
   "id": "representative-diving",
   "metadata": {},
   "outputs": [],
   "source": [
    "data_copy['event_type'] = data_copy['event_type'].replace({'Permit - Event 6/10,000+':'Event 6'})\n",
    "data_copy['event_type'] = data_copy['event_type'].replace({'Permit - Festival/Performance/12,001+ Event':'Festival/Performance Event'})"
   ]
  },
  {
   "cell_type": "code",
   "execution_count": 11,
   "id": "downtown-philippines",
   "metadata": {},
   "outputs": [],
   "source": [
    "data_copy['event_type'] = data_copy['event_type'].replace({'Permit - Parking Lot Rental':'Parking Lot Rental Permit'})\n",
    "data_copy['event_type'] = data_copy['event_type'].replace({'Permit - Promotions':'Promotional Event'})"
   ]
  },
  {
   "cell_type": "code",
   "execution_count": 12,
   "id": "unable-australian",
   "metadata": {},
   "outputs": [
    {
     "name": "stdout",
     "output_type": "stream",
     "text": [
      "['Athletic' 'Administrative Reservation' 'Venue Rental' 'Event 3'\n",
      " 'Event 2' 'Event 4' 'Event 5' 'Event 1' 'Event 6' 'Commemorative' 'Media'\n",
      " 'Festival/Performance Event' 'Promotional Event' 'Picnic'\n",
      " 'Corporate Event' 'Parking Lot Rental Permit']\n"
     ]
    }
   ],
   "source": [
    "mappings = {\n",
    "    'Administrative Reservation':'Administrative Reservation',\n",
    "    'Commemorative':'Commemorative',\n",
    "    'Athletic':'Athletic',\n",
    "    'Corporate Event':'Corporate Event',\n",
    "    'Media':'Media',\n",
    "    'Picnic':'Picnic',\n",
    "    'Venue Rental':'Venue Rental',\n",
    "    'Event 1 Cluster':'Event 1',\n",
    "    'Event 2 Cluster':'Event 2',\n",
    "    'Event 3 Cluster':'Event 3',\n",
    "    'Event 4 Cluster':'Event 4',\n",
    "    'Event 5 Cluster':'Event 5'\n",
    "}\n",
    "\n",
    "def categorize_event(event_description):\n",
    "    for key,values in mappings.items():\n",
    "        if key in event_description:\n",
    "            return values\n",
    "    return event_description\n",
    "    \n",
    "data_copy['Event Type Category'] = data_copy['event_type'].apply(categorize_event)\n",
    "print(data_copy['Event Type Category'].unique())"
   ]
  },
  {
   "cell_type": "code",
   "execution_count": 13,
   "id": "mounted-portable",
   "metadata": {},
   "outputs": [
    {
     "name": "stderr",
     "output_type": "stream",
     "text": [
      "Matplotlib created a temporary config/cache directory at /tmp/matplotlib-4w7_1ysd because the default path (/tmp/cache/matplotlib) is not a writable directory; it is highly recommended to set the MPLCONFIGDIR environment variable to a writable directory, in particular to speed up the import of Matplotlib and to better support multiprocessing.\n"
     ]
    },
    {
     "data": {
      "image/png": "[encoded data removed]",
      "text/plain": [
       "<Figure size 720x432 with 1 Axes>"
      ]
     },
     "metadata": {
      "needs_background": "light"
     },
     "output_type": "display_data"
    }
   ],
   "source": [
    "#Displaying a bar chart with the top 5 requestors based on the number of requests they have made\n",
    "import matplotlib.pyplot as plt\n",
    "\n",
    "requestor_counts = data_copy['requestor_'].value_counts().nlargest(5)\n",
    "\n",
    "plt.figure(figsize=(10,6))\n",
    "requestor_counts.plot(kind='bar', color='skyblue')\n",
    "plt.xlabel('Requestor Names')\n",
    "plt.ylabel('Number of Requests')\n",
    "plt.title('Top 5 Requestors')\n",
    "\n",
    "plt.show()"
   ]
  },
  {
   "cell_type": "code",
   "execution_count": 14,
   "id": "extra-albany",
   "metadata": {},
   "outputs": [
    {
     "data": {
      "image/png": "[encoded data removed]",
      "text/plain": [
       "<Figure size 720x432 with 1 Axes>"
      ]
     },
     "metadata": {
      "needs_background": "light"
     },
     "output_type": "display_data"
    }
   ],
   "source": [
    "#Displaying a bar chart showing the number of events conducted over the years\n",
    "event_counts = data_copy['Event Type Category'].value_counts()\n",
    "\n",
    "plt.figure(figsize=(10,6))\n",
    "event_counts.plot(kind='bar', color='green')\n",
    "\n",
    "plt.xlabel('Event Type')\n",
    "plt.ylabel('No. of occurrences of those events')\n",
    "plt.title('Number of different Events organized over the years')\n",
    "\n",
    "plt.show()"
   ]
  },
  {
   "cell_type": "code",
   "execution_count": 15,
   "id": "loaded-decimal",
   "metadata": {},
   "outputs": [
    {
     "name": "stdout",
     "output_type": "stream",
     "text": [
      "['Approved' 'Tentative' 'On Hold' 'Waiting Decision' 'Stage Denied']\n"
     ]
    }
   ],
   "source": [
    "#Renaming the columns to avoid duplications\n",
    "mappings = {\n",
    "    'Approved':'Approved',\n",
    "    'Completed':'Approved',\n",
    "    'Issued':'Approved'\n",
    "}\n",
    "def status_change(permit_status):\n",
    "    for key,values in mappings.items():\n",
    "        if key in permit_status:\n",
    "            return values\n",
    "    return permit_status\n",
    "    \n",
    "data_copy['permit_status'] = data_copy['permit_status'].apply(status_change)\n",
    "print(data_copy['permit_status'].unique())"
   ]
  },
  {
   "cell_type": "code",
   "execution_count": 16,
   "id": "competent-impression",
   "metadata": {},
   "outputs": [
    {
     "name": "stderr",
     "output_type": "stream",
     "text": [
      "<ipython-input-16-df2d1f998d43>:4: SettingWithCopyWarning: \n",
      "A value is trying to be set on a copy of a slice from a DataFrame.\n",
      "Try using .loc[row_indexer,col_indexer] = value instead\n",
      "\n",
      "See the caveats in the documentation: https://pandas.pydata.org/pandas-docs/stable/user_guide/indexing.html#returning-a-view-versus-a-copy\n",
      "  approved_events['Year'] = pd.to_datetime(approved_events['reservation_start_date']).dt.year\n"
     ]
    },
    {
     "data": {
      "image/png": "[encoded data removed]",
      "text/plain": [
       "<Figure size 720x432 with 1 Axes>"
      ]
     },
     "metadata": {
      "needs_background": "light"
     },
     "output_type": "display_data"
    }
   ],
   "source": [
    "#Trend Analysis\n",
    "#Line chart shows the trend of the number of events that happened each year, considering only the events with an 'Approved' permit status.\n",
    "\n",
    "approved_events = data_copy[data_copy['permit_status'] == 'Approved']\n",
    "approved_events['Year'] = pd.to_datetime(approved_events['reservation_start_date']).dt.year\n",
    "events_per_year = approved_events.groupby('Year')['Event Type Category']. count()\n",
    "\n",
    "plt.figure(figsize=(10,6))\n",
    "events_per_year.plot(kind='line', marker='+', color='orange')\n",
    "plt.xlabel('Year')\n",
    "plt.ylabel('Number of Events')\n",
    "plt.title('Number of events per year (Approved permits)')\n",
    "\n",
    "plt.show()"
   ]
  },
  {
   "cell_type": "code",
   "execution_count": null,
   "id": "weekly-helmet",
   "metadata": {},
   "outputs": [],
   "source": []
  }
 ],
 "metadata": {
  "kernelspec": {
   "display_name": "Python 3",
   "language": "python",
   "name": "python3"
  },
  "language_info": {
   "codemirror_mode": {
    "name": "ipython",
    "version": 3
   },
   "file_extension": ".py",
   "mimetype": "text/x-python",
   "name": "python",
   "nbconvert_exporter": "python",
   "pygments_lexer": "ipython3",
   "version": "3.8.6"
  }
 },
 "nbformat": 4,
 "nbformat_minor": 5
}
